{
  "nbformat": 4,
  "nbformat_minor": 0,
  "metadata": {
    "colab": {
      "name": "TareaGpiozero.ipynb",
      "provenance": [],
      "collapsed_sections": [],
      "authorship_tag": "ABX9TyNVbT52i9lAlKjv5nr+kJF0",
      "include_colab_link": true
    },
    "kernelspec": {
      "name": "python3",
      "display_name": "Python 3"
    },
    "language_info": {
      "name": "python"
    }
  },
  "cells": [
    {
      "cell_type": "markdown",
      "metadata": {
        "id": "view-in-github",
        "colab_type": "text"
      },
      "source": [
        "<a href=\"https://colab.research.google.com/github/EdgarFMO/Nuevotrabajo/blob/main/TareaGpiozero.ipynb\" target=\"_parent\"><img src=\"https://colab.research.google.com/assets/colab-badge.svg\" alt=\"Open In Colab\"/></a>"
      ]
    },
    {
      "cell_type": "markdown",
      "metadata": {
        "id": "y_eceti9G1pL"
      },
      "source": [
        "Nombre: Edgar Felipe Moreno Osorio\n",
        "\n",
        "Código: 20192005095"
      ]
    },
    {
      "cell_type": "code",
      "metadata": {
        "id": "8WwhQfcz5AvC"
      },
      "source": [
        "from gpiozero import Button\n",
        "from gpiozero import LED\n",
        "from signal import pause\n",
        "\n",
        "BtnR = Button(2,hold_time = 1, hold_repeat = True) # .is_pressed = si se presiona\n",
        "BtnG = Button(3,hold_time = 1, hold_repeat = True) # .when_released = al soltarlo\n",
        "BtnB = Button(4,hold_time = 1, hold_repeat = True)# .when_held = repite el proceso luego de mantener oprimido por un tiempo\n",
        "\n",
        "LedRojo = LED(14,initial_value= False)                   \n",
        "LedVerde = LED(15,initial_value= False)\n",
        "LedAzul = LED(18,initial_value= False)\n",
        "\n",
        "def LedR():\n",
        "  LedRojo.toggle()\n",
        "\n",
        "def LedR1():\n",
        "  LedRojo.blink(on_time=1.5,off_time=1.5, n=10)\n",
        "     \n",
        "def LedV():\n",
        "  LedVerde.toggle()\n",
        "\n",
        "def LedV2():\n",
        "  LedVerde.blink(on_time=1.5,off_time=1.5, n=10)\n",
        "\n",
        "\n",
        "def LedA():\n",
        "  LedAzul.toggle()\n",
        "\n",
        "def LedA3():\n",
        "  LedAzul.blink(on_time=1.5,off_time=1.5, n=10)\n",
        "\n",
        "try:\n",
        "  BtnR.when_pressed() = LedR\n",
        "  BtnR.when_held() = LedR1\n",
        "  BtnG.when_pressed() = LedV\n",
        "  BtnR.when_held() = LedV2 \n",
        "  BtnB.when_pressed() = LedA\n",
        "  BtnR.when_held() = LedA3\n",
        "                        #Try ejecuta, finally - pass termina\n",
        "                        # .when_pressed() = es un evento\n",
        "  pause()\n",
        "finally:\n",
        "  pass\n",
        "\n",
        "\n",
        "\n",
        "\n"
      ],
      "execution_count": null,
      "outputs": []
    }
  ]
}